{
 "cells": [
  {
   "cell_type": "code",
   "execution_count": 1,
   "metadata": {},
   "outputs": [],
   "source": [
    "import os\n",
    "from tqdm import tqdm"
   ]
  },
  {
   "cell_type": "markdown",
   "metadata": {},
   "source": [
    "## Reading data"
   ]
  },
  {
   "cell_type": "code",
   "execution_count": 2,
   "metadata": {},
   "outputs": [],
   "source": [
    "messages_dir = '../data/part'\n",
    "messages = []\n",
    "\n",
    "for i in range(1, 11):\n",
    "    messages_part = []\n",
    "    for message_filename in os.listdir(messages_dir + str(i)):\n",
    "        message_file = open(messages_dir + str(i) + \"/\" + message_filename, \"r\")\n",
    "        subject = message_file.readline()[9:-1]\n",
    "        message_file.readline()\n",
    "        text = message_file.readline()[:-1]\n",
    "        is_spam = 1 if 'spmsg' in message_filename else 0\n",
    "        messages_part.append([subject + text, is_spam])\n",
    "    messages.append(messages_part)"
   ]
  },
  {
   "cell_type": "markdown",
   "metadata": {},
   "source": [
    "## Accuracy score "
   ]
  },
  {
   "cell_type": "code",
   "execution_count": 3,
   "metadata": {},
   "outputs": [],
   "source": [
    "def get_accuracy_score(y_true, y_predicted):\n",
    "    return sum(1 if y_true_i == y_predicted_i else 0 for y_true_i, y_predicted_i in zip(y_true, y_predicted)) / len(y_true)"
   ]
  },
  {
   "cell_type": "markdown",
   "metadata": {},
   "source": [
    "## Cross Validation"
   ]
  },
  {
   "cell_type": "code",
   "execution_count": 4,
   "metadata": {},
   "outputs": [],
   "source": [
    "import sys\n",
    "sys.path.append('../../../cf')\n",
    "from bayes_F import BayesClassifier "
   ]
  },
  {
   "cell_type": "code",
   "execution_count": 5,
   "metadata": {},
   "outputs": [],
   "source": [
    "def cross_validate(messages, classifier_params):\n",
    "    scores = []\n",
    "    for i in tqdm(range(len(messages))):\n",
    "        test = messages[i]\n",
    "        train = messages[:i] + messages[i + 1:]\n",
    "        X_train = []\n",
    "        y_train = []\n",
    "        for messages_part in train:\n",
    "            for message in messages_part:\n",
    "                X_train.append(message[0].split())\n",
    "                y_train.append(message[1])\n",
    "        classifier = BayesClassifier(*classifier_params)\n",
    "        classifier.fit(X_train, y_train)\n",
    "        y_true = []\n",
    "        y_predicted = []\n",
    "        for message in test:\n",
    "            X_test = message[0].split()\n",
    "            y_test = message[1]\n",
    "            y_true.append(y_test)\n",
    "            y_predicted.append(classifier.predict(X_test))\n",
    "        scores.append(get_accuracy_score(y_true, y_predicted))\n",
    "    return sum(scores) / len(scores), classifier_params"
   ]
  },
  {
   "cell_type": "markdown",
   "metadata": {},
   "source": [
    "## Hyperparameter Optimization"
   ]
  },
  {
   "cell_type": "code",
   "execution_count": 6,
   "metadata": {},
   "outputs": [],
   "source": [
    "import multiprocessing as mp\n",
    "\n",
    "def hyperparameter_optimization():\n",
    "    pool = mp.Pool(mp.cpu_count())\n",
    "    best_accuracy_score = -1\n",
    "    best_params = None\n",
    "    all_params = []\n",
    "    for alpha in [1e-5, 1e-2]:\n",
    "        for gram_len in [1, 2, 3]:\n",
    "            all_params.append( [alpha, gram_len, [1, 1]])\n",
    "    results = [pool.apply(cross_validate, args=(messages, params)) for params in all_params]\n",
    "    pool.close()   \n",
    "    print(results)\n",
    "    for result in results:\n",
    "        if result[0] > best_accuracy_score:\n",
    "            best_accuracy_score = result[0]\n",
    "            best_params = result[1]\n",
    "    print('Best accuracy score is {0} for params {1}'.format(best_accuracy_score, best_params))\n",
    "    return best_accuracy_score, best_params"
   ]
  },
  {
   "cell_type": "markdown",
   "metadata": {},
   "source": [
    "## Model analysis"
   ]
  },
  {
   "cell_type": "code",
   "execution_count": null,
   "metadata": {},
   "outputs": [],
   "source": [
    "hyperparameter_optimization()"
   ]
  },
  {
   "cell_type": "code",
   "execution_count": null,
   "metadata": {},
   "outputs": [],
   "source": []
  },
  {
   "cell_type": "code",
   "execution_count": null,
   "metadata": {},
   "outputs": [],
   "source": []
  },
  {
   "cell_type": "code",
   "execution_count": null,
   "metadata": {},
   "outputs": [],
   "source": []
  }
 ],
 "metadata": {
  "kernelspec": {
   "display_name": "Python 3",
   "language": "python",
   "name": "python3"
  },
  "language_info": {
   "codemirror_mode": {
    "name": "ipython",
    "version": 3
   },
   "file_extension": ".py",
   "mimetype": "text/x-python",
   "name": "python",
   "nbconvert_exporter": "python",
   "pygments_lexer": "ipython3",
   "version": "3.7.6"
  }
 },
 "nbformat": 4,
 "nbformat_minor": 4
}
