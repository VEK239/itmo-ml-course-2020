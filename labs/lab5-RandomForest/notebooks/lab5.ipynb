{
 "cells": [
  {
   "cell_type": "markdown",
   "metadata": {},
   "source": [
    "# Reading dataset "
   ]
  },
  {
   "cell_type": "code",
   "execution_count": 1,
   "metadata": {},
   "outputs": [],
   "source": [
    "import pandas as pd"
   ]
  },
  {
   "cell_type": "code",
   "execution_count": 2,
   "metadata": {},
   "outputs": [],
   "source": [
    "def read_dataset(index):\n",
    "    DATA_PATH = '../data/'\n",
    "    if index < 10:\n",
    "        index = '0' + str(index)\n",
    "    else:\n",
    "        index = str(index)\n",
    "    train = pd.read_csv(DATA_PATH + index + '_train.csv')\n",
    "    y_train = train.y\n",
    "    X_train = train.drop(columns=['y'])\n",
    "    test = pd.read_csv(DATA_PATH + index + '_test.csv')\n",
    "    y_test = test.y\n",
    "    X_test = test.drop(columns=['y'])\n",
    "    return X_train, y_train, X_test, y_test"
   ]
  },
  {
   "cell_type": "markdown",
   "metadata": {},
   "source": [
    "# Analyzing desicionTreeClassifieer"
   ]
  },
  {
   "cell_type": "markdown",
   "metadata": {},
   "source": [
    "## Hyperparam optimization with early stopping"
   ]
  },
  {
   "cell_type": "code",
   "execution_count": 3,
   "metadata": {},
   "outputs": [],
   "source": [
    "from sklearn.tree import DecisionTreeClassifier\n",
    "from sklearn.model_selection import train_test_split\n",
    "from sklearn.metrics import accuracy_score\n",
    "from tqdm.notebook import tqdm"
   ]
  },
  {
   "cell_type": "code",
   "execution_count": 4,
   "metadata": {},
   "outputs": [],
   "source": [
    "def hyperparameter_optimization(X_train, y_train, X_test, y_test):\n",
    "    X_train, X_valid, y_train, y_valid = train_test_split(X_train, y_train, test_size=0.25)\n",
    "    best_accuracy = -1\n",
    "    best_params = None\n",
    "    for criterion in ['gini', 'entropy']:\n",
    "        for splitter in ['best', 'random']:\n",
    "            current_accuracy = -1\n",
    "            max_depth = 0\n",
    "            early_stopping_counter = 0\n",
    "            while early_stopping_counter < 25:\n",
    "                max_depth += 1\n",
    "                classifier = DecisionTreeClassifier(criterion = criterion, splitter = splitter, max_depth = max_depth)\n",
    "                classifier.fit(X_train, y_train)\n",
    "                y_pred = classifier.predict(X_valid)\n",
    "                accuracy = accuracy_score(y_pred, y_valid)\n",
    "                if accuracy > current_accuracy:\n",
    "                    current_accuracy = accuracy\n",
    "                    early_stopping_counter = 0\n",
    "                else:\n",
    "                    early_stopping_counter += 1\n",
    "            if current_accuracy > best_accuracy:\n",
    "                best_params = [criterion, splitter, max_depth - 10]\n",
    "                best_accuracy = current_accuracy\n",
    "    return best_params, best_accuracy"
   ]
  },
  {
   "cell_type": "code",
   "execution_count": 5,
   "metadata": {},
   "outputs": [
    {
     "data": {
      "application/vnd.jupyter.widget-view+json": {
       "model_id": "234dea4a022642bf86888c1e0cea6b5a",
       "version_major": 2,
       "version_minor": 0
      },
      "text/plain": [
       "HBox(children=(FloatProgress(value=0.0, max=20.0), HTML(value='')))"
      ]
     },
     "metadata": {},
     "output_type": "display_data"
    },
    {
     "name": "stdout",
     "output_type": "stream",
     "text": [
      "\n"
     ]
    }
   ],
   "source": [
    "min_depth = 1e10\n",
    "min_depth_params = None\n",
    "max_depth = -1\n",
    "max_depth_params = None\n",
    "\n",
    "for i in tqdm(range(1, 21)):\n",
    "    X_train, y_train, X_test, y_test = read_dataset(i)\n",
    "    params, accuracy = hyperparameter_optimization(X_train, y_train, X_test, y_test)\n",
    "    if params[2] < min_depth:\n",
    "        min_depth_params = [i] + params + [accuracy]\n",
    "        min_depth = params[2]\n",
    "    if params[2] > max_depth:\n",
    "        max_depth_params = [i] + params + [accuracy]\n",
    "        max_depth = params[2]"
   ]
  },
  {
   "cell_type": "code",
   "execution_count": 6,
   "metadata": {},
   "outputs": [
    {
     "data": {
      "text/plain": [
       "[3, 'gini', 'best', 16, 0.9460500963391136]"
      ]
     },
     "execution_count": 6,
     "metadata": {},
     "output_type": "execute_result"
    }
   ],
   "source": [
    "min_depth_params"
   ]
  },
  {
   "cell_type": "code",
   "execution_count": 7,
   "metadata": {},
   "outputs": [
    {
     "data": {
      "text/plain": [
       "[9, 'gini', 'best', 27, 0.71875]"
      ]
     },
     "execution_count": 7,
     "metadata": {},
     "output_type": "execute_result"
    }
   ],
   "source": [
    "max_depth_params"
   ]
  },
  {
   "cell_type": "markdown",
   "metadata": {},
   "source": [
    "## Analyzing best models"
   ]
  },
  {
   "cell_type": "code",
   "execution_count": 8,
   "metadata": {},
   "outputs": [],
   "source": [
    "import matplotlib.pyplot as plt"
   ]
  },
  {
   "cell_type": "code",
   "execution_count": 9,
   "metadata": {},
   "outputs": [],
   "source": [
    "def plot_train_test_accuracy(params):\n",
    "    X_train, y_train, X_test, y_test = read_dataset(params[0])\n",
    "    depth = params[3]\n",
    "    train_accuracy = []\n",
    "    test_accuracy = []\n",
    "    for max_depth in range(1, depth + 2):\n",
    "        classifier = DecisionTreeClassifier(criterion = params[1], splitter = params[2], max_depth = max_depth)\n",
    "        classifier.fit(X_train, y_train)\n",
    "        train_accuracy.append(accuracy_score(classifier.predict(X_train), y_train))\n",
    "        test_accuracy.append(accuracy_score(classifier.predict(X_test), y_test))\n",
    "    plt.plot(range(1, depth + 2), test_accuracy, color='orange', label='test')\n",
    "    plt.plot(range(1, depth + 2), train_accuracy, color='darkblue', label='train')\n",
    "    plt.xlabel('Max depth')\n",
    "    plt.ylabel('Accuracy')\n",
    "    plt.legend()\n",
    "    plt.show()"
   ]
  },
  {
   "cell_type": "markdown",
   "metadata": {},
   "source": [
    "### min depth"
   ]
  },
  {
   "cell_type": "code",
   "execution_count": 10,
   "metadata": {},
   "outputs": [
    {
     "data": {
      "image/png": "[encoded data removed]",
      "text/plain": [
       "<Figure size 432x288 with 1 Axes>"
      ]
     },
     "metadata": {
      "needs_background": "light"
     },
     "output_type": "display_data"
    }
   ],
   "source": [
    "plot_train_test_accuracy(min_depth_params)"
   ]
  },
  {
   "cell_type": "markdown",
   "metadata": {},
   "source": [
    "### max depth"
   ]
  },
  {
   "cell_type": "code",
   "execution_count": 11,
   "metadata": {},
   "outputs": [
    {
     "data": {
      "image/png": "[encoded data removed]",
      "text/plain": [
       "<Figure size 432x288 with 1 Axes>"
      ]
     },
     "metadata": {
      "needs_background": "light"
     },
     "output_type": "display_data"
    }
   ],
   "source": [
    "plot_train_test_accuracy(max_depth_params)"
   ]
  },
  {
   "cell_type": "markdown",
   "metadata": {},
   "source": [
    "## RandomForestClassifier"
   ]
  },
  {
   "cell_type": "code",
   "execution_count": 50,
   "metadata": {},
   "outputs": [],
   "source": [
    "import random\n",
    "import math\n",
    "import numpy as np"
   ]
  },
  {
   "cell_type": "code",
   "execution_count": 61,
   "metadata": {},
   "outputs": [],
   "source": [
    "class RandomForestClassifier:\n",
    "    \n",
    "    class DecisionTree:\n",
    "        def __init__(self, features_size=lambda x: round(math.sqrt(x))):\n",
    "            self.features_size = features_size\n",
    "        def fit(self, X, y):\n",
    "            self.features_indices = random.sample(range(len(X.columns)), k = self.features_size(len(X.columns)))\n",
    "            X = X.copy()\n",
    "            X = X.iloc[:, self.features_indices]\n",
    "            self.clf = DecisionTreeClassifier()\n",
    "            self.clf.fit(X, y)\n",
    "        def predict(self, X):\n",
    "            X = X.copy()\n",
    "            X = X.iloc[:, self.features_indices]   \n",
    "            return self.clf.predict(X)                                      \n",
    "            \n",
    "            \n",
    "    def __init__(self, n_trees=10, sample_size=lambda x: x, features_size=lambda x: round(math.sqrt(x))):\n",
    "        self.sample_size = sample_size\n",
    "        self.features_size = features_size\n",
    "        self.n_trees = n_trees\n",
    "                                                  \n",
    "    def fit(self, X, y):\n",
    "        self.trees = []\n",
    "        for i in range(self.n_trees):\n",
    "            classifier = self.DecisionTree()\n",
    "            \n",
    "            indices = [random.choice(range(len(X))) for _ in range(self.sample_size(len(X)))]\n",
    "            X_data = X.iloc[indices]\n",
    "            y_data = y.iloc[indices]\n",
    "            \n",
    "            classifier.fit(X_data, y_data)\n",
    "            self.trees.append(classifier)\n",
    "                                                  \n",
    "    def predict(self, X):\n",
    "        predicted = []\n",
    "        for tree in self.trees:\n",
    "            predicted.append(tree.predict(X))\n",
    "        predicted = np.array(predicted)\n",
    "        y_pred = []\n",
    "        for column in predicted.T:\n",
    "            frequency_array = np.bincount(column)\n",
    "            y_pred.append(np.argmax(frequency_array))\n",
    "        return np.array(y_pred)"
   ]
  },
  {
   "cell_type": "code",
   "execution_count": 68,
   "metadata": {},
   "outputs": [
    {
     "data": {
      "application/vnd.jupyter.widget-view+json": {
       "model_id": "129741e3bd744bd38e9222255ed100ce",
       "version_major": 2,
       "version_minor": 0
      },
      "text/plain": [
       "HBox(children=(FloatProgress(value=0.0, max=20.0), HTML(value='')))"
      ]
     },
     "metadata": {},
     "output_type": "display_data"
    },
    {
     "name": "stdout",
     "output_type": "stream",
     "text": [
      "\n"
     ]
    }
   ],
   "source": [
    "best_dataset = -1\n",
    "best_dataset_accuracy = -1\n",
    "\n",
    "for i in tqdm(range(1, 21)):\n",
    "    X_train, y_train, X_test, y_test = read_dataset(i)\n",
    "    classifier = RandomForestClassifier(n_trees=100)\n",
    "    classifier.fit(X_train, y_train)\n",
    "    y_pred = classifier.predict(X_test)\n",
    "    accuracy = accuracy_score(y_pred, y_test)\n",
    "    if accuracy > best_dataset_accuracy:\n",
    "        best_dataset_accuracy = accuracy\n",
    "        best_dataset = i\n",
    "    if accuracy < worst_dataset_accuracy:\n",
    "        worst_dataset_accuracy = accuracy\n",
    "        worst_dataset = i"
   ]
  },
  {
   "cell_type": "markdown",
   "metadata": {},
   "source": [
    "### Analyzing best"
   ]
  },
  {
   "cell_type": "code",
   "execution_count": 69,
   "metadata": {},
   "outputs": [],
   "source": [
    "def plot_train_test_accuracy_rf(i, n_trees=100):\n",
    "    X_train, y_train, X_test, y_test = read_dataset(i)\n",
    "    train_accuracy = []\n",
    "    test_accuracy = []\n",
    "    for max_trees in range(1, n_trees):\n",
    "        classifier = RandomForestClassifier(n_trees=max_trees)\n",
    "        classifier.fit(X_train, y_train)\n",
    "        train_accuracy.append(accuracy_score(classifier.predict(X_train), y_train))\n",
    "        test_accuracy.append(accuracy_score(classifier.predict(X_test), y_test))\n",
    "    plt.plot(range(1, n_trees), test_accuracy, color='orange', label='test')\n",
    "    plt.plot(range(1, n_trees), train_accuracy, color='darkblue', label='train')\n",
    "    plt.xlabel('Trees count')\n",
    "    plt.ylabel('Accuracy')\n",
    "    plt.legend()\n",
    "    plt.show()"
   ]
  },
  {
   "cell_type": "code",
   "execution_count": 70,
   "metadata": {},
   "outputs": [
    {
     "data": {
      "image/png": "[encoded data removed]",
      "text/plain": [
       "<Figure size 432x288 with 1 Axes>"
      ]
     },
     "metadata": {
      "needs_background": "light"
     },
     "output_type": "display_data"
    }
   ],
   "source": [
    "plot_train_test_accuracy_rf(best_dataset)"
   ]
  },
  {
   "cell_type": "code",
   "execution_count": null,
   "metadata": {},
   "outputs": [],
   "source": []
  }
 ],
 "metadata": {
  "kernelspec": {
   "display_name": "chemvae",
   "language": "python",
   "name": "chemvae"
  },
  "language_info": {
   "codemirror_mode": {
    "name": "ipython",
    "version": 3
   },
   "file_extension": ".py",
   "mimetype": "text/x-python",
   "name": "python",
   "nbconvert_exporter": "python",
   "pygments_lexer": "ipython3",
   "version": "3.6.10"
  }
 },
 "nbformat": 4,
 "nbformat_minor": 4
}
