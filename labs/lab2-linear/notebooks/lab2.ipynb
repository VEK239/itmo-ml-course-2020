{
 "cells": [
  {
   "cell_type": "markdown",
   "metadata": {},
   "source": [
    "# Reading data"
   ]
  },
  {
   "cell_type": "code",
   "execution_count": 1,
   "metadata": {
    "pycharm": {
     "name": "#%%\n"
    }
   },
   "outputs": [],
   "source": [
    "import numpy as np\n",
    "import math\n",
    "import tqdm"
   ]
  },
  {
   "cell_type": "code",
   "execution_count": 2,
   "metadata": {
    "pycharm": {
     "name": "#%%\n"
    }
   },
   "outputs": [],
   "source": [
    "def read_dataset(index):\n",
    "    with open('../data/' + str(index) + '.txt', 'r') as inf:\n",
    "        m = int(inf.readline())\n",
    "        n = int(inf.readline())\n",
    "        X_train, y_train = [], []\n",
    "        for i in range(n):\n",
    "            obj = list(map(int, inf.readline().split()))\n",
    "            X_train.append(obj[:-1])\n",
    "            y_train.append(obj[-1])\n",
    "        n = int(inf.readline())\n",
    "        X_test, y_test = [], []\n",
    "        for i in range(n):\n",
    "            obj = list(map(int, inf.readline().split()))\n",
    "            X_test.append(obj[:-1])\n",
    "            y_test.append(obj[-1])\n",
    "        \n",
    "    return X_train, y_train, X_test, y_test"
   ]
  },
  {
   "cell_type": "markdown",
   "metadata": {},
   "source": [
    "# Hyperparameter optimization and NRMSE"
   ]
  },
  {
   "cell_type": "code",
   "execution_count": 3,
   "metadata": {
    "pycharm": {
     "name": "#%%\n"
    }
   },
   "outputs": [],
   "source": [
    "import sys\n",
    "sys.path.append('../../../cf')\n",
    "from sgd_D import SGDClassifier "
   ]
  },
  {
   "cell_type": "code",
   "execution_count": 4,
   "metadata": {
    "pycharm": {
     "name": "#%%\n"
    }
   },
   "outputs": [],
   "source": [
    "def count_nrmse(y_predicted, y_test):\n",
    "    return math.sqrt(sum((y_pred - y_t) ** 2 for y_pred, y_t in zip(y_predicted, y_test))) / len(y_test) / (max(y_test) - min(y_test))"
   ]
  },
  {
   "cell_type": "code",
   "execution_count": 5,
   "metadata": {
    "pycharm": {
     "name": "#%%\n"
    }
   },
   "outputs": [],
   "source": [
    "def hyperparameter_optimization(X_train, y_train, X_test, y_test, Model):\n",
    "    best_nrmse = 1\n",
    "    for epochs_count in tqdm.tqdm(range(1000, 11000, 1000)):\n",
    "        for lr in [1e-20, 1e-15,1e-10,1e-5, 1e-3]:\n",
    "            for reg_coef in [0.7, 0.9, 1]:\n",
    "                params = [epochs_count, lr, reg_coef]\n",
    "                model = Model(epochs_count, lr, reg_coef)\n",
    "                model.fit(X_train, y_train)\n",
    "                y_predicted = model.predict(X_test)\n",
    "                nrmse = count_nrmse(y_predicted, y_test)\n",
    "                if nrmse < best_nrmse:\n",
    "                    best_nrmse = nrmse\n",
    "                    best_params = params\n",
    "                    print(\"Finished with best params\", best_params, nrmse)\n",
    "    print('Overall best params:', best_params)\n",
    "    print('Overall best nrmse:', best_nrmse)\n",
    "    return best_params, best_nrmse"
   ]
  },
  {
   "cell_type": "markdown",
   "metadata": {},
   "source": [
    "# Analyzing best model"
   ]
  },
  {
   "cell_type": "code",
   "execution_count": 6,
   "metadata": {
    "pycharm": {
     "name": "#%%\n"
    }
   },
   "outputs": [],
   "source": [
    "import seaborn as sns\n",
    "import pandas as pd"
   ]
  },
  {
   "cell_type": "code",
   "execution_count": 7,
   "metadata": {
    "pycharm": {
     "name": "#%%\n"
    }
   },
   "outputs": [],
   "source": [
    "def plot(test, train):\n",
    "    plot_data = pd.DataFrame({\"test\": pd.Series(test), \"train\": pd.Series(train)})\n",
    "    sns.lineplot(data=plot_data)"
   ]
  },
  {
   "cell_type": "markdown",
   "metadata": {},
   "source": [
    "# Stochastic gradient descent"
   ]
  },
  {
   "cell_type": "code",
   "execution_count": 8,
   "metadata": {
    "pycharm": {
     "name": "#%%\n"
    }
   },
   "outputs": [
    {
     "name": "stderr",
     "output_type": "stream",
     "text": [
      "\r",
      "  0%|                                                                                           | 0/10 [00:00<?, ?it/s]"
     ]
    },
    {
     "name": "stdout",
     "output_type": "stream",
     "text": [
      "Finished with best params [1000, 1e-20, 0.7] 0.030061680568040632\n",
      "Finished with best params [1000, 1e-20, 0.9] 0.030058652312675835\n",
      "Finished with best params [1000, 1e-20, 1] 0.029619879095482058\n",
      "Finished with best params [1000, 1e-15, 0.7] 0.010198272461941974\n",
      "Finished with best params [1000, 1e-15, 1] 9.396984273355118e-06\n"
     ]
    },
    {
     "name": "stderr",
     "output_type": "stream",
     "text": [
      " 50%|█████████████████████████████████████████▌                                         | 5/10 [02:38<02:22, 28.60s/it]"
     ]
    },
    {
     "name": "stdout",
     "output_type": "stream",
     "text": [
      "Finished with best params [6000, 1e-15, 1] 6.89925349437669e-06\n"
     ]
    },
    {
     "name": "stderr",
     "output_type": "stream",
     "text": [
      "100%|██████████████████████████████████████████████████████████████████████████████████| 10/10 [05:29<00:00, 32.90s/it]"
     ]
    },
    {
     "name": "stdout",
     "output_type": "stream",
     "text": [
      "Overall best params: [6000, 1e-15, 1]\n",
      "Overall best nrmse: 6.89925349437669e-06\n"
     ]
    },
    {
     "name": "stderr",
     "output_type": "stream",
     "text": [
      "\n"
     ]
    },
    {
     "data": {
      "text/plain": [
       "([6000, 1e-15, 1], 6.89925349437669e-06)"
      ]
     },
     "execution_count": 8,
     "metadata": {},
     "output_type": "execute_result"
    }
   ],
   "source": [
    "X_train, y_train, X_test, y_test = read_dataset(1)\n",
    "hyperparameter_optimization(X_train, y_train, X_test, y_test, SGDClassifier)"
   ]
  },
  {
   "cell_type": "code",
   "execution_count": 9,
   "metadata": {
    "pycharm": {
     "name": "#%%\n"
    }
   },
   "outputs": [
    {
     "name": "stderr",
     "output_type": "stream",
     "text": [
      "100%|███████████████████████████████████████████████████████████████████████████| 10000/10000 [00:10<00:00, 983.99it/s]\n"
     ]
    },
    {
     "data": {
      "image/png": "[encoded data removed]",
      "text/plain": [
       "<Figure size 432x288 with 1 Axes>"
      ]
     },
     "metadata": {
      "needs_background": "light"
     },
     "output_type": "display_data"
    }
   ],
   "source": [
    "best_params = [9000, 1e-15, 1]\n",
    "model = SGDClassifier(*best_params)\n",
    "model.fit(X_train, y_train, False)\n",
    "test_nrmses = []\n",
    "train_nrmses = []\n",
    "for i in tqdm.tqdm(range(10000)):\n",
    "    model.process_step()\n",
    "    if i % 100 == 0:\n",
    "        y_predicted_test = model.predict(X_test)\n",
    "        test_nrmses.append(count_nrmse(y_predicted_test, y_test))\n",
    "        y_predicted_train = model.predict(X_train)\n",
    "        train_nrmses.append(count_nrmse(y_predicted_train, y_train))\n",
    "plot(test_nrmses, train_nrmses)"
   ]
  },
  {
   "cell_type": "code",
   "execution_count": 10,
   "metadata": {
    "pycharm": {
     "name": "#%%\n"
    }
   },
   "outputs": [],
   "source": [
    "stochastic_overall = test_nrmses"
   ]
  },
  {
   "cell_type": "markdown",
   "metadata": {},
   "source": [
    "# Least squares"
   ]
  },
  {
   "cell_type": "code",
   "execution_count": 11,
   "metadata": {
    "pycharm": {
     "name": "#%%\n"
    }
   },
   "outputs": [],
   "source": [
    "class LSClassifier:\n",
    "    def __init__(self):\n",
    "        pass\n",
    "    def fit(self, X_train, y_train):\n",
    "        X_train = np.array(X_train)\n",
    "        y_train = np.array(y_train)\n",
    "        u, s, v = np.linalg.svd(X_train, full_matrices=False)\n",
    "        s = np.linalg.inv(np.diag(s))\n",
    "        self.answer = v.T.dot(s).dot(u.T).dot(y_train)\n",
    "    def predict(self, X_test):\n",
    "        return [sum(w * x_st for w, x_st in zip(self.answer.tolist(), element)) for element in X_test]"
   ]
  },
  {
   "cell_type": "code",
   "execution_count": 12,
   "metadata": {
    "pycharm": {
     "name": "#%%\n"
    }
   },
   "outputs": [],
   "source": [
    "X_train, y_train, X_test, y_test = read_dataset(1)\n",
    "model = LSClassifier()\n",
    "model.fit(X_train, y_train)\n",
    "train_nrmses=[count_nrmse(model.predict(X_train), y_train) for i in range(100)]"
   ]
  },
  {
   "cell_type": "code",
   "execution_count": 13,
   "metadata": {
    "pycharm": {
     "name": "#%%\n"
    }
   },
   "outputs": [],
   "source": [
    "X_train, y_train, X_test, y_test = read_dataset(1)\n",
    "model = LSClassifier()\n",
    "model.fit(X_train, y_train)\n",
    "test_nrmses=[count_nrmse(model.predict(X_test), y_test) for i in range(100)]"
   ]
  },
  {
   "cell_type": "code",
   "execution_count": 14,
   "metadata": {
    "pycharm": {
     "name": "#%%\n"
    }
   },
   "outputs": [
    {
     "data": {
      "image/png": "[encoded data removed]",
      "text/plain": [
       "<Figure size 432x288 with 1 Axes>"
      ]
     },
     "metadata": {
      "needs_background": "light"
     },
     "output_type": "display_data"
    }
   ],
   "source": [
    "plot(test_nrmses, train_nrmses)"
   ]
  },
  {
   "cell_type": "code",
   "execution_count": 15,
   "metadata": {
    "pycharm": {
     "name": "#%%\n"
    }
   },
   "outputs": [],
   "source": [
    "overall_least_squares = test_nrmses"
   ]
  },
  {
   "cell_type": "markdown",
   "metadata": {},
   "source": [
    "# Genetic algorithm"
   ]
  },
  {
   "cell_type": "code",
   "execution_count": 16,
   "metadata": {
    "pycharm": {
     "name": "#%%\n"
    }
   },
   "outputs": [],
   "source": [
    "X_train = np.array(X_train)\n",
    "y_train = np.array(y_train)\n",
    "X_test = np.array(X_test)\n",
    "y_test = np.array(y_test)"
   ]
  },
  {
   "cell_type": "code",
   "execution_count": 17,
   "metadata": {
    "pycharm": {
     "name": "#%%\n"
    }
   },
   "outputs": [],
   "source": [
    "from geneticalgorithm import geneticalgorithm as ga"
   ]
  },
  {
   "cell_type": "code",
   "execution_count": 18,
   "metadata": {
    "pycharm": {
     "name": "#%%\n"
    }
   },
   "outputs": [
    {
     "name": "stdout",
     "output_type": "stream",
     "text": [
      " The best solution found:                                                                           \n",
      " [ 7.33090551e+01  3.94912939e+01 -3.78149475e+01 -7.92084882e+01\n",
      " -9.03496935e+01  5.35659270e+01 -2.30440077e+00  1.44676244e+01\n",
      "  5.19938170e+01 -1.93894543e+01  9.83010679e+01  9.23570375e+00\n",
      "  6.07276601e+01 -9.23997892e+01  5.69697860e+00 -3.19032717e+01\n",
      "  3.55926913e+00 -8.32532124e+01  7.10386854e+01 -4.80876077e+01\n",
      "  4.66817531e+01  5.23015187e+01  3.11230368e+01 -7.27413578e+01\n",
      " -7.47334160e+01 -8.40348951e+01 -2.92627064e+00  5.61515507e+01\n",
      " -7.04507342e+01 -3.48641505e+01 -7.19821673e+01  1.44526447e+01\n",
      "  7.08849906e+01 -4.46645974e+01 -5.82192111e+01  7.56484135e+01\n",
      "  1.81588959e+01 -4.83129264e+01 -5.51552292e+01  7.30609673e+01\n",
      " -7.16608655e+01 -8.15918939e+01 -3.20546814e+01 -4.54661528e+01\n",
      " -4.92668762e+01 -9.95292862e+01  3.12158641e+00  9.65788162e+01\n",
      "  9.27628038e+01  8.70803833e+01 -8.21248204e+01 -8.99304878e+01\n",
      "  4.97384064e+00  9.85494458e+01 -8.66696595e+01 -7.38233494e+00\n",
      "  4.28476520e+01 -8.97169862e+01  3.51734275e+01  2.92616258e+01\n",
      " -9.60524669e+01 -1.28174420e+01  6.47355213e+01 -1.17958259e+01\n",
      " -4.48170402e+00 -4.18935938e+00 -8.43774476e+01  9.50575046e+01\n",
      " -1.35455323e+01 -4.19192789e+01  9.29777265e+01 -7.55270479e+01\n",
      "  4.50166599e+01  3.58907896e+01  6.51064796e-01  5.52908223e+01\n",
      "  9.52616881e+01  8.35782754e+01  6.45108593e+01 -6.35173309e+01\n",
      "  4.68403263e+01  6.04842479e+01  1.88269239e+01 -4.39056392e+01\n",
      " -8.08538656e+01  5.02798069e+01  5.10130718e+01 -4.06648320e+01\n",
      " -7.84397168e+01 -5.66374791e+01 -2.00512640e+01 -1.14295809e+01\n",
      " -1.18128228e+01 -9.71584436e+01 -1.43181062e+01 -5.35789113e+01\n",
      " -9.34927678e+01  9.82444228e-02  1.28226495e+01 -6.53806813e+01\n",
      " -3.14649264e+01 -1.60365671e+00 -7.90316811e+01 -1.91676831e+01\n",
      " -7.42962795e+01  7.95253799e+01  9.43077542e+01  4.27182592e+00\n",
      "  7.21220633e+01  5.00035121e+01 -8.10136694e+01 -4.22296716e+01\n",
      " -3.78862360e+01  5.67753453e+01  1.86562303e+01  1.01030117e+01\n",
      "  2.05848226e+01 -6.54292852e+01 -3.32341044e+01  5.30449562e+01\n",
      " -2.39861579e+01 -8.93988324e+00 -7.75060540e+01  7.24293123e+01\n",
      "  4.90422380e+00  2.16621107e+01 -4.25385682e+01 -5.03439830e+01\n",
      " -5.73879570e+01 -8.81821972e+00  3.09752749e+00  1.89585220e+01\n",
      "  8.28059602e+01 -2.84743019e+01 -7.54591033e+01  9.75196593e+01\n",
      " -9.66059871e+01 -7.18610942e+01 -4.88868762e+01 -3.13762142e+00\n",
      " -2.99589620e+01 -2.28009680e+00 -6.02100504e+01  2.27054154e+01\n",
      " -5.18079859e+01 -7.39628256e+01 -8.22197653e+01 -1.57652587e+01\n",
      " -8.45309429e+01 -4.61587352e+01 -4.12242106e+01  5.39441836e+01\n",
      " -6.46945478e+01 -7.79162714e+00 -9.58741125e+01 -6.66229063e+01\n",
      "  2.17246029e+01  3.06548564e+01  3.75744539e+00 -8.13862981e+01\n",
      "  9.73460767e+01  1.97437197e+01  5.02581262e+01 -4.79698353e+01\n",
      " -3.98077101e+01 -7.03530733e+01  3.08713335e+01 -5.86029856e+01\n",
      "  1.85557935e+01 -1.05690976e+01 -7.32278574e+01 -4.15042580e+00\n",
      " -9.22539635e+01  7.00978055e+01  4.92578408e+00  9.56888596e+01\n",
      " -7.24609583e+00  9.25883424e+01 -2.11610859e+01  9.69577504e+01\n",
      "  2.37003634e+00 -7.92900394e+01 -3.97877726e+00 -6.47961303e+01\n",
      "  3.31808320e+01 -1.77394936e+01  7.13753448e+01 -3.34126718e+00\n",
      " -5.03057845e+01  4.39325219e+01  8.03913699e+01  7.25023178e+01\n",
      "  3.38889399e+01  7.80655609e+01  1.46377022e+01 -2.25507659e+01\n",
      " -9.49132584e+01  9.53505448e+01 -3.22888938e+01  9.66879225e+01\n",
      " -7.56405078e+01  4.24368617e+01  7.50300256e+01 -9.11868135e+01\n",
      "  4.50815996e+01  1.90518951e+01  9.27438669e+01 -6.80742690e+01\n",
      "  3.88461468e+01 -3.59865091e+01  9.59086511e+01 -6.28241974e+01\n",
      "  3.01282430e+01 -6.73997333e+01 -1.76885952e+00 -5.51950624e+01\n",
      " -4.13634305e+01  2.69985463e+01  8.52455182e+01  2.97206498e+01\n",
      " -6.12503263e+01  7.90138251e+01 -1.95082927e+01  6.41962916e+01\n",
      " -2.34883759e+01 -1.14976686e+01  8.52872156e+01 -7.03919243e+01\n",
      "  2.05646627e+01 -8.41927237e+01  1.07725570e+01 -7.34690125e+00\n",
      "  1.55753636e+01  1.95760996e+01 -3.93362609e+01 -9.99879398e+01\n",
      "  8.75637873e+01  3.58234282e+01  2.57910946e+01  7.31785502e+01\n",
      " -1.70211313e+01 -7.80059035e+00  1.16423693e+01  3.95597699e+01\n",
      "  5.57173796e+01  5.74709139e+01  1.27135378e+01 -5.48602904e+01\n",
      "  8.35620972e+01 -6.36525397e+01  9.26968050e+01 -6.76596535e+01\n",
      " -1.85578706e+01 -8.45657619e+01  7.26957367e+01  9.86130178e+01\n",
      " -6.94694639e+01  6.27084958e+01 -4.40700869e+01 -6.96209510e+01\n",
      " -6.20450544e+01  1.24138191e+01  8.13177239e+00  8.75794510e+01\n",
      " -3.45650782e+01  9.95602050e+01 -9.24898256e+01 -2.20787097e+00\n",
      "  3.38708303e+01 -5.42350439e+01 -5.22096016e+01 -8.20444800e+01\n",
      " -4.78164406e+00  8.49421997e+01 -2.38673149e+01  4.06919927e+01\n",
      "  9.13335778e+01  2.28367270e+01  7.31212258e+01 -2.50286744e+00\n",
      "  5.83205858e+01  9.22619298e+01  9.28857781e+01 -6.11274106e+01\n",
      " -1.17062883e+00 -7.73364723e+01 -6.43389944e+01 -1.19320910e+01\n",
      "  1.09329120e+01 -1.79762762e+01  5.79548922e+00  8.25974949e+01\n",
      " -3.45694635e+01 -2.98977483e+01 -6.48866922e+01  6.03562496e+01\n",
      " -5.57827326e+01 -5.05497699e+01  3.39901495e+01  4.14601025e+01\n",
      " -2.14642858e+01 -1.73324822e+01  6.37116165e+00 -3.22781433e+01\n",
      " -3.88639520e+01  9.50973067e+01 -7.07889333e+01  8.92385975e+01\n",
      "  3.99428585e+01  7.69861086e+01 -7.60708791e+00 -2.32887795e+01\n",
      " -4.90393078e+01 -2.42383152e+01  2.30077195e+01  1.46636697e+01\n",
      " -3.06718981e+01 -2.32398448e+01 -7.34659483e+01  1.74211237e+01\n",
      " -4.86935534e+01  4.58724418e+01 -4.59859426e+01 -3.68863565e+01\n",
      "  8.66260937e+01  7.06012271e+01  6.09062015e+01 -2.43310815e+01\n",
      "  2.38748864e+01  2.48344216e+01  2.76266282e+01  6.33488581e+01\n",
      " -3.71933326e+01 -3.59098001e+01  2.44229141e+01  7.63043550e+01\n",
      "  8.64510971e+00  1.60179069e+01 -9.70012199e+01  7.03258630e+01\n",
      " -6.54004140e+01  4.68381107e+01 -4.05015585e+01 -7.86741780e+01\n",
      " -9.41796989e+01 -5.51450606e+01 -8.72237388e+01 -7.60203947e+01\n",
      "  8.97520085e+01  4.33702890e+01  7.48956094e+01  8.00905295e+01\n",
      " -9.58922759e+01  9.92998879e+01 -1.41956946e+01 -7.60817419e+01\n",
      " -5.67963677e+01 -7.79777672e+01  1.48378842e+01 -8.63035139e+01\n",
      "  1.35191016e+01 -5.91393819e+01 -1.08944819e+01  1.16193845e+01\n",
      "  3.63616883e+01  9.17013670e+01 -7.81013833e+01  6.21202168e+01\n",
      "  8.75593708e+01 -7.42092326e+01  8.05599340e+01 -6.95998089e+01\n",
      " -2.30329134e+01  8.09881843e+01  8.65506852e+01  6.76195319e+01\n",
      " -5.79696881e+01  2.33901413e+01  3.62750349e+01 -5.58268092e+01\n",
      "  6.03953125e+01  4.74526754e+01 -5.58843687e+01 -2.92631931e+00\n",
      " -4.85583134e+00 -1.54512962e+00  9.29520867e+01 -2.78947049e+01\n",
      "  1.01953048e+01  1.39811998e+01  7.49154132e+01  9.37991712e+01\n",
      " -1.63429650e+01  3.39767962e+01  3.43404627e+01 -7.93670067e+01\n",
      "  1.31888993e+01 -1.09863116e+01 -8.99744305e+01  1.94012956e+01\n",
      "  2.34460826e+01  7.74522078e+01  4.59944116e+01  6.04224523e+00\n",
      "  1.56656245e+01 -9.01829563e+01 -1.53409773e+01  9.53793334e+01\n",
      "  9.34164414e+01 -3.74656194e+01 -7.50807374e+01 -9.15504027e+01\n",
      " -1.17135016e+01 -9.89517810e+01  8.46449687e+01  5.53872699e+01\n",
      "  6.34169275e-01 -6.52131150e+01  9.49807642e+01 -9.76670273e+01\n",
      "  4.85039077e+01 -5.09935252e+01  1.69445960e+01  5.06610768e+01\n",
      "  7.45559754e+01  7.10696007e+01  1.89451715e+01  3.57455716e+01]\n",
      "\n",
      " Objective function:\n",
      " 0.015977186022391142\n"
     ]
    },
    {
     "data": {
      "image/png": "[encoded data removed]",
      "text/plain": [
       "<Figure size 432x288 with 1 Axes>"
      ]
     },
     "metadata": {
      "needs_background": "light"
     },
     "output_type": "display_data"
    }
   ],
   "source": [
    "def f(X):\n",
    "    return count_nrmse(X_train.dot(X).tolist(), y_train)\n",
    "    \n",
    "    \n",
    "varbound=np.array([[-100,100]]*X_train.shape[1])\n",
    "\n",
    "algorithm_param = {'max_num_iteration': 10000,\n",
    "                   'population_size':10,\n",
    "                   'mutation_probability':0.1,\n",
    "                   'elit_ratio': 0.01,\n",
    "                   'crossover_probability': 0.5,\n",
    "                   'parents_portion': 0.3,\n",
    "                   'crossover_type':'uniform',\n",
    "                   'max_iteration_without_improv':None}\n",
    "\n",
    "model=ga(function=f,dimension=X_train.shape[1],variable_type='real',variable_boundaries=varbound, algorithm_parameters=algorithm_param)\n",
    "\n",
    "model.run()"
   ]
  },
  {
   "cell_type": "code",
   "execution_count": 19,
   "metadata": {
    "pycharm": {
     "name": "#%%\n"
    }
   },
   "outputs": [],
   "source": [
    "nrmse_train = model.report"
   ]
  },
  {
   "cell_type": "code",
   "execution_count": 20,
   "metadata": {
    "pycharm": {
     "name": "#%%\n"
    }
   },
   "outputs": [
    {
     "name": "stdout",
     "output_type": "stream",
     "text": [
      " The best solution found:                                                                           \n",
      " [ 2.48027347e+01 -8.42515308e-01 -9.27221194e+01 -1.47317633e+01\n",
      "  8.92202808e+01  2.96536945e+01 -4.64195516e+01  8.90349239e+01\n",
      " -6.97208964e+01  6.99537335e+00  9.89062393e+01  1.76316418e+01\n",
      " -6.15719769e+01  1.86008991e+01 -3.72444330e+01 -4.41330490e+01\n",
      "  4.09266348e+00 -5.59266320e+01 -2.04179495e+01  2.21527730e+01\n",
      "  8.03719844e+01 -9.43966377e+01 -8.73600028e+01  3.12495471e+01\n",
      "  1.72218405e+01  4.16460995e+01 -8.27821400e+01  4.70973672e+01\n",
      " -9.21117479e+01 -6.18234737e+01  8.75877114e+01 -1.84775718e+01\n",
      "  5.25257203e+01  5.01138383e+00  1.34378066e+01 -4.60618564e+01\n",
      "  8.45877614e+01  6.20722942e+00  3.13843243e+01  8.73277567e+01\n",
      " -1.73786403e+01  8.03029845e+01 -8.34149474e+01 -1.51605515e+01\n",
      " -1.71992490e+01  1.06811406e+01  5.13931992e+01 -1.28778774e+01\n",
      "  2.83494486e+01  5.64348249e+01 -3.43958951e+01  3.27369094e+01\n",
      "  9.72992280e+01  8.32085837e+01 -8.97044989e+01 -4.77686333e+01\n",
      " -6.96584887e+01 -4.99057348e+01  2.89575058e+01 -7.56058324e+01\n",
      " -6.10928316e+01  5.04962449e+01  4.10195576e+01  4.64893649e+01\n",
      " -1.97645392e+01 -9.71419825e+01 -4.65950168e+01  1.48982793e+01\n",
      " -5.64811785e+01  6.87919955e+01  3.16890419e+01  5.24349612e+01\n",
      "  5.99337786e+01  5.49389347e+01  8.88083610e+01 -4.95872880e+01\n",
      "  5.54133001e+01  6.71411048e+01 -7.83676327e+01 -2.77046275e+01\n",
      " -8.47135458e+01 -5.50974145e+01  3.51371989e-02  7.25729574e+01\n",
      " -2.74793060e+01  2.36051059e+01 -4.57450058e+00  5.40669141e+01\n",
      "  6.64778470e+01  7.47168810e+00 -8.17305909e+01 -4.11061404e+01\n",
      "  8.61331177e+01  7.49978488e+01  1.68486978e+01 -7.61684737e+01\n",
      "  6.73855813e+01 -7.28484849e+00 -8.48620168e+01 -3.79718100e+01\n",
      "  1.72518770e+01 -4.79519578e+01 -2.24812297e+00 -8.74513738e+01\n",
      " -9.84756426e+01  2.60206349e+01  5.41220654e+01  5.38111093e+00\n",
      " -8.41905163e+01 -9.43891957e+01  7.62379827e+01  8.03688565e+01\n",
      "  1.78158578e+01  5.12286149e+01  4.90511336e+01  5.46278078e+01\n",
      "  3.50092645e+01  2.53111959e+00 -7.65807848e+01  9.75776986e+00\n",
      "  7.07591106e+01  6.39855050e+01 -6.51963994e+01 -1.02208716e+01\n",
      "  7.24968536e+01 -6.32466434e+00 -5.54998326e+01  6.00044966e+01\n",
      "  3.42948765e+01 -3.29296957e-02 -1.42385363e+01  8.83804046e+01\n",
      "  1.52792301e+01  7.69688584e+01  3.20251252e+01 -5.53936676e+01\n",
      "  9.60772676e+01  6.66732453e+01 -5.06109553e+01 -5.01760444e+01\n",
      "  3.78632428e+01 -4.36510371e+01 -6.33269986e+01 -4.50009502e+01\n",
      "  9.17481299e+01  8.13098926e+01 -4.92826000e+01  2.79844992e+01\n",
      " -4.04935219e+01  6.27831194e+01  5.17828435e+00 -1.76124519e+00\n",
      " -5.39174502e+01  9.22605555e+01 -5.08847058e+01 -4.55195071e+01\n",
      "  6.52195083e+01 -3.10306407e+01  8.44586935e+01 -2.57399998e+00\n",
      "  2.91505176e+01  7.57132893e+01  8.57423030e+01 -5.37196039e+01\n",
      "  9.71498722e+01 -7.13048365e+01  2.74690747e+01 -8.34329257e+01\n",
      " -4.26303252e+00  8.70019456e+01  6.21247768e+01  2.29761196e+01\n",
      " -9.91700233e+01 -9.11828053e+01 -4.85766993e+01 -2.02874378e+01\n",
      " -2.80256209e+01 -2.41481949e+01  5.45428862e+01 -1.52108118e+01\n",
      " -3.06572514e+01  5.50293687e+01  3.89736478e+01  2.32167808e+01\n",
      " -5.25814218e+01  3.79380552e+01  3.53314576e+01  3.38172123e+01\n",
      " -6.70378828e-01 -5.90611860e+01  7.66083043e+01  9.29292835e+01\n",
      "  8.77227040e+01 -3.32862519e+00  7.11140747e+00  8.86601119e+01\n",
      " -9.93667057e+01  2.93067148e+01 -4.63741822e+01 -3.22072501e+00\n",
      " -8.91389979e+00 -6.00520003e+01 -5.89115962e+01 -2.77540586e+01\n",
      " -8.84529461e+01  5.88136586e+01 -7.06786626e+01 -2.54838188e+01\n",
      " -9.08951338e+01  3.40566637e+00  9.06216740e+01 -5.64435061e+01\n",
      "  3.19314836e+01  5.78462201e+01  1.13414010e+01 -8.46196279e+00\n",
      " -9.59467035e+01 -7.27180350e+01  1.39065804e+01  4.15329450e+01\n",
      "  6.89770319e+01 -7.70405157e+01 -7.88063801e+01 -3.13586648e+01\n",
      " -9.95672809e+01 -9.39060281e+01  8.71630677e+01 -4.60440714e+01\n",
      " -5.35740912e+01  4.87688040e+01 -5.30802494e+01  6.29582283e+01\n",
      "  3.59194540e+01 -4.64849387e+01 -4.72527183e+01  8.40054391e+00\n",
      "  6.05659676e+01 -9.82808458e+01 -5.34686122e+01  6.29780309e+01\n",
      " -5.81419506e+01  4.69951877e+01  2.49588603e+01  6.47299369e+01\n",
      " -3.69845478e+01 -4.63856292e+01  2.05008217e+01  9.81166981e+01\n",
      " -1.05058882e+01  3.50733590e+01  2.48243756e+00  5.76147950e+01\n",
      "  5.56212027e+01 -1.78337896e+01  2.62196632e+01  7.34821325e+01\n",
      "  2.77510576e+01 -7.96628676e+00 -5.70105226e+01 -3.71039121e+01\n",
      " -2.51818594e+01 -3.80963235e+01  1.17957290e+01 -7.19095778e+01\n",
      "  4.71099743e+01 -2.75279835e+01  8.56925480e+01  3.21489026e+01\n",
      "  3.58296128e+00  8.87317133e+01  4.86208519e+01 -9.35053691e+01\n",
      " -4.56284820e+01  9.44437799e+01  6.35563336e+01  1.85803941e+01\n",
      "  9.39109153e+00 -7.05847701e+01 -1.93917268e+01 -6.27782414e+01\n",
      "  3.75531458e+01 -4.35696914e+01  6.19403795e+01 -6.61958527e+01\n",
      "  2.07666909e+01 -6.82576794e+00  8.80256018e+01 -1.76137961e+01\n",
      "  8.21673148e+01  4.59064458e+01  6.90661518e+01 -3.37311051e+01\n",
      " -9.76212265e+01 -8.97946771e+01  7.34587281e+01 -3.78726480e+01\n",
      "  9.65193731e+01 -7.47240034e+01  2.52724772e+01 -7.74368055e+00\n",
      " -5.88713903e-01  7.43992698e+01 -3.26093951e+01 -8.09287545e+01\n",
      "  2.59836111e+01  1.43848509e+01 -1.30492410e+01  2.32606086e+01\n",
      " -2.29120515e+01  5.95003108e+01 -1.83118573e+01  3.16051477e+01\n",
      " -4.07281922e+01  6.49720970e+01  3.72154450e+01 -4.02377747e+01\n",
      "  8.76676886e+00 -5.51371224e+00 -2.42624175e+01 -3.99961864e+01\n",
      "  1.13433331e+01 -2.24803119e+01 -1.91362626e+00  2.26591941e+01\n",
      " -1.48225052e-01 -4.96194274e+00 -8.03122196e+00  2.42711599e+01\n",
      "  5.06671156e+01  3.05286365e+01  7.70936562e+01  1.14952261e+01\n",
      "  2.11501911e+01 -7.85096541e+01  6.27611625e+01  6.59363777e+01\n",
      "  7.34453931e+01  2.84710795e+01  9.32609618e+01  1.43531543e+01\n",
      "  5.59958459e+01 -7.45337682e+01  4.09425977e+01 -8.56113096e+01\n",
      " -6.84724807e+01  1.35467232e+01 -6.50445994e+01  6.14793902e+01\n",
      " -3.88407142e+01  8.23068284e+01 -3.67508622e+01 -2.05175237e+00\n",
      " -8.53332665e+00  4.65191185e+00  2.86121137e+01 -6.77565916e+01\n",
      " -4.52425927e+01  3.25019993e+01  4.54800662e+00 -2.36795341e+01\n",
      "  3.84215790e+01 -6.08440631e+01  3.00687811e+00 -3.87108368e+01\n",
      " -4.76095128e+01  9.22275891e+01  2.31724192e+00 -1.12488196e+01\n",
      "  3.24761854e+01 -9.16473434e+01 -9.58475197e+01  1.19175846e+01\n",
      "  6.05800864e+00 -3.80190723e+01  3.00619102e+01 -1.15521458e+01\n",
      "  3.84563706e+01  1.39244057e+01  7.20788526e+00 -9.82580379e+01\n",
      " -7.69694601e+01  6.20849654e+01  2.65827202e+01 -5.29108197e+00\n",
      "  9.64634288e+01 -2.06865033e+01  9.97416847e+01  4.07145586e+01\n",
      " -2.89434482e+00 -8.29059261e+01  8.86794921e+01  9.73178959e+01\n",
      " -8.81110656e+01  7.78363068e+01 -7.74378652e+00  8.02987090e+01\n",
      " -7.00560955e+01 -3.73633890e+01  3.12110877e+01 -9.11121858e+01\n",
      "  4.08752187e+01  4.96400264e+00  6.72754387e+01  6.46836191e+01\n",
      "  4.65064348e+01 -6.39379804e+01  5.69452578e+00  3.99369596e+01\n",
      " -6.68958017e+01 -6.49369585e+01  8.78473836e+01  6.30699213e+01\n",
      " -1.71449333e+01 -2.23462926e+01  6.83020642e+01 -2.18893273e+01\n",
      "  7.08959725e+01 -6.13829845e+01 -9.50275967e+01  6.71300620e+01\n",
      " -5.88999164e+00 -9.54104578e+00 -9.91417005e+01 -3.01523732e+01\n",
      "  6.17804751e+01  8.94249877e+01  2.02788486e+01  4.45714743e+01]\n",
      "\n",
      " Objective function:\n",
      " 0.03770574242898498\n"
     ]
    },
    {
     "data": {
      "image/png": "[encoded data removed]",
      "text/plain": [
       "<Figure size 432x288 with 1 Axes>"
      ]
     },
     "metadata": {
      "needs_background": "light"
     },
     "output_type": "display_data"
    }
   ],
   "source": [
    "def f(X):\n",
    "    return count_nrmse(X_test.dot(X).tolist(), y_test)\n",
    "    \n",
    "    \n",
    "varbound=np.array([[-100,100]]*X_train.shape[1])\n",
    "\n",
    "algorithm_param = {'max_num_iteration': 10000,\n",
    "                   'population_size':10,\n",
    "                   'mutation_probability':0.1,\n",
    "                   'elit_ratio': 0.01,\n",
    "                   'crossover_probability': 0.5,\n",
    "                   'parents_portion': 0.3,\n",
    "                   'crossover_type':'uniform',\n",
    "                   'max_iteration_without_improv':None}\n",
    "\n",
    "model=ga(function=f,dimension=X_test.shape[1],variable_type='real',variable_boundaries=varbound, algorithm_parameters=algorithm_param)\n",
    "\n",
    "model.run()"
   ]
  },
  {
   "cell_type": "code",
   "execution_count": 21,
   "metadata": {
    "pycharm": {
     "name": "#%%\n"
    }
   },
   "outputs": [],
   "source": [
    "nrmse_test = model.report"
   ]
  },
  {
   "cell_type": "code",
   "execution_count": 22,
   "metadata": {
    "pycharm": {
     "name": "#%%\n"
    }
   },
   "outputs": [
    {
     "data": {
      "image/png": "[encoded data removed]",
      "text/plain": [
       "<Figure size 432x288 with 1 Axes>"
      ]
     },
     "metadata": {
      "needs_background": "light"
     },
     "output_type": "display_data"
    }
   ],
   "source": [
    "plot(nrmse_test, nrmse_train)"
   ]
  },
  {
   "cell_type": "code",
   "execution_count": 23,
   "metadata": {
    "pycharm": {
     "name": "#%%\n"
    }
   },
   "outputs": [],
   "source": [
    "genetic_overall = []\n",
    "for i, e in enumerate(nrmse_test):\n",
    "    if i % 100 == 0:\n",
    "        genetic_overall.append(e)"
   ]
  },
  {
   "cell_type": "markdown",
   "metadata": {},
   "source": [
    "# Overall algos analysis"
   ]
  },
  {
   "cell_type": "code",
   "execution_count": 24,
   "metadata": {
    "pycharm": {
     "name": "#%%\n"
    }
   },
   "outputs": [],
   "source": [
    "nrmse = pd.DataFrame({'genetic': pd.Series(genetic_overall), 'least_squares': pd.Series(overall_least_squares), 'sgd': pd.Series(stochastic_overall)})"
   ]
  },
  {
   "cell_type": "code",
   "execution_count": 25,
   "metadata": {
    "pycharm": {
     "name": "#%%\n"
    }
   },
   "outputs": [
    {
     "data": {
      "text/html": [
       "<div>\n",
       "<style scoped>\n",
       "    .dataframe tbody tr th:only-of-type {\n",
       "        vertical-align: middle;\n",
       "    }\n",
       "\n",
       "    .dataframe tbody tr th {\n",
       "        vertical-align: top;\n",
       "    }\n",
       "\n",
       "    .dataframe thead th {\n",
       "        text-align: right;\n",
       "    }\n",
       "</style>\n",
       "<table border=\"1\" class=\"dataframe\">\n",
       "  <thead>\n",
       "    <tr style=\"text-align: right;\">\n",
       "      <th></th>\n",
       "      <th>genetic</th>\n",
       "      <th>least_squares</th>\n",
       "      <th>sgd</th>\n",
       "    </tr>\n",
       "  </thead>\n",
       "  <tbody>\n",
       "    <tr>\n",
       "      <th>0</th>\n",
       "      <td>0.686767</td>\n",
       "      <td>0.001061</td>\n",
       "      <td>0.025985</td>\n",
       "    </tr>\n",
       "    <tr>\n",
       "      <th>1</th>\n",
       "      <td>0.147833</td>\n",
       "      <td>0.001061</td>\n",
       "      <td>0.003058</td>\n",
       "    </tr>\n",
       "    <tr>\n",
       "      <th>2</th>\n",
       "      <td>0.147833</td>\n",
       "      <td>0.001061</td>\n",
       "      <td>0.000324</td>\n",
       "    </tr>\n",
       "    <tr>\n",
       "      <th>3</th>\n",
       "      <td>0.147833</td>\n",
       "      <td>0.001061</td>\n",
       "      <td>0.000115</td>\n",
       "    </tr>\n",
       "    <tr>\n",
       "      <th>4</th>\n",
       "      <td>0.103738</td>\n",
       "      <td>0.001061</td>\n",
       "      <td>0.000138</td>\n",
       "    </tr>\n",
       "    <tr>\n",
       "      <th>...</th>\n",
       "      <td>...</td>\n",
       "      <td>...</td>\n",
       "      <td>...</td>\n",
       "    </tr>\n",
       "    <tr>\n",
       "      <th>96</th>\n",
       "      <td>0.037706</td>\n",
       "      <td>0.001061</td>\n",
       "      <td>0.000037</td>\n",
       "    </tr>\n",
       "    <tr>\n",
       "      <th>97</th>\n",
       "      <td>0.037706</td>\n",
       "      <td>0.001061</td>\n",
       "      <td>0.000011</td>\n",
       "    </tr>\n",
       "    <tr>\n",
       "      <th>98</th>\n",
       "      <td>0.037706</td>\n",
       "      <td>0.001061</td>\n",
       "      <td>0.000009</td>\n",
       "    </tr>\n",
       "    <tr>\n",
       "      <th>99</th>\n",
       "      <td>0.037706</td>\n",
       "      <td>0.001061</td>\n",
       "      <td>0.000019</td>\n",
       "    </tr>\n",
       "    <tr>\n",
       "      <th>100</th>\n",
       "      <td>0.037706</td>\n",
       "      <td>NaN</td>\n",
       "      <td>NaN</td>\n",
       "    </tr>\n",
       "  </tbody>\n",
       "</table>\n",
       "<p>101 rows × 3 columns</p>\n",
       "</div>"
      ],
      "text/plain": [
       "      genetic  least_squares       sgd\n",
       "0    0.686767       0.001061  0.025985\n",
       "1    0.147833       0.001061  0.003058\n",
       "2    0.147833       0.001061  0.000324\n",
       "3    0.147833       0.001061  0.000115\n",
       "4    0.103738       0.001061  0.000138\n",
       "..        ...            ...       ...\n",
       "96   0.037706       0.001061  0.000037\n",
       "97   0.037706       0.001061  0.000011\n",
       "98   0.037706       0.001061  0.000009\n",
       "99   0.037706       0.001061  0.000019\n",
       "100  0.037706            NaN       NaN\n",
       "\n",
       "[101 rows x 3 columns]"
      ]
     },
     "execution_count": 25,
     "metadata": {},
     "output_type": "execute_result"
    }
   ],
   "source": [
    "nrmse"
   ]
  },
  {
   "cell_type": "code",
   "execution_count": 26,
   "metadata": {
    "pycharm": {
     "name": "#%%\n"
    }
   },
   "outputs": [
    {
     "data": {
      "text/plain": [
       "<matplotlib.axes._subplots.AxesSubplot at 0x1e7a3528f98>"
      ]
     },
     "execution_count": 26,
     "metadata": {},
     "output_type": "execute_result"
    },
    {
     "data": {
      "image/png": "[encoded data removed]",
      "text/plain": [
       "<Figure size 432x288 with 1 Axes>"
      ]
     },
     "metadata": {
      "needs_background": "light"
     },
     "output_type": "display_data"
    }
   ],
   "source": [
    "sns.lineplot(data=nrmse)"
   ]
  },
  {
   "cell_type": "code",
   "execution_count": null,
   "metadata": {
    "pycharm": {
     "name": "#%%\n"
    }
   },
   "outputs": [],
   "source": []
  }
 ],
 "metadata": {
  "kernelspec": {
   "display_name": "chemvae",
   "language": "python",
   "name": "chemvae"
  },
  "language_info": {
   "codemirror_mode": {
    "name": "ipython",
    "version": 3
   },
   "file_extension": ".py",
   "mimetype": "text/x-python",
   "name": "python",
   "nbconvert_exporter": "python",
   "pygments_lexer": "ipython3",
   "version": "3.6.10"
  },
  "pycharm": {
   "stem_cell": {
    "cell_type": "raw",
    "metadata": {
     "collapsed": false
    },
    "source": []
   }
  }
 },
 "nbformat": 4,
 "nbformat_minor": 1
}
